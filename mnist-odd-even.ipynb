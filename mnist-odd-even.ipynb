{
 "cells": [
  {
   "cell_type": "markdown",
   "id": "bc7f3a36",
   "metadata": {},
   "source": [
    "Download MNIST dataset."
   ]
  },
  {
   "cell_type": "code",
   "execution_count": 1,
   "id": "d53aa547",
   "metadata": {},
   "outputs": [
    {
     "name": "stderr",
     "output_type": "stream",
     "text": [
      "C:\\Users\\User\\anaconda3\\lib\\site-packages\\sklearn\\datasets\\_openml.py:932: FutureWarning: The default value of `parser` will change from `'liac-arff'` to `'auto'` in 1.4. You can set `parser='auto'` to silence this warning. Therefore, an `ImportError` will be raised from 1.4 if the dataset is dense and pandas is not installed. Note that the pandas parser may return different data types. See the Notes Section in fetch_openml's API doc for details.\n",
      "  warn(\n"
     ]
    }
   ],
   "source": [
    "from sklearn.datasets import fetch_openml\n",
    "\n",
    "mnist = fetch_openml('mnist_784', as_frame=False)"
   ]
  },
  {
   "cell_type": "code",
   "execution_count": 33,
   "id": "9e5ab219",
   "metadata": {},
   "outputs": [
    {
     "name": "stdout",
     "output_type": "stream",
     "text": [
      "Training Set\n",
      "Class 0 has 5868 instances, i.e. 9.86% of the train set.\n",
      "Class 1 has 6695 instances, i.e. 11.25% of the train set.\n",
      "Class 2 has 5942 instances, i.e. 9.99% of the train set.\n",
      "Class 3 has 6070 instances, i.e. 10.2% of the train set.\n",
      "Class 4 has 5800 instances, i.e. 9.75% of the train set.\n",
      "Class 5 has 5366 instances, i.e. 9.02% of the train set.\n",
      "Class 6 has 5845 instances, i.e. 9.82% of the train set.\n",
      "Class 7 has 6199 instances, i.e. 10.42% of the train set.\n",
      "Class 8 has 5801 instances, i.e. 9.75% of the train set.\n",
      "Class 9 has 5914 instances, i.e. 9.94% of the train set.\n",
      "\n",
      "Test Set\n",
      "Class 0 has 1035 instances, i.e. 9.86% of the test set.\n",
      "Class 1 has 1182 instances, i.e. 11.26% of the test set.\n",
      "Class 2 has 1048 instances, i.e. 9.98% of the test set.\n",
      "Class 3 has 1071 instances, i.e. 10.2% of the test set.\n",
      "Class 4 has 1024 instances, i.e. 9.75% of the test set.\n",
      "Class 5 has 947 instances, i.e. 9.02% of the test set.\n",
      "Class 6 has 1031 instances, i.e. 9.82% of the test set.\n",
      "Class 7 has 1094 instances, i.e. 10.42% of the test set.\n",
      "Class 8 has 1024 instances, i.e. 9.75% of the test set.\n",
      "Class 9 has 1044 instances, i.e. 9.94% of the test set.\n"
     ]
    }
   ],
   "source": [
    "import numpy as np\n",
    "from sklearn.model_selection import train_test_split\n",
    "\n",
    "X = mnist.data\n",
    "y = mnist.target\n",
    "\n",
    "#split the data into train and test set with 85-15 ratio\n",
    "X_train, X_test, y_train, y_test = train_test_split(X, y, test_size=0.15, stratify=y, random_state=42)\n",
    "\n",
    "#Count and print the instances of each class\n",
    "class_train , count_train = np.unique(y_train, return_counts=True)\n",
    "class_test , count_test = np.unique(y_test, return_counts=True)\n",
    "\n",
    "print(\"Training Set\")\n",
    "for cl , cnt in zip(class_train , count_train):\n",
    "    print(f\"Class {cl} has {cnt} instances, i.e. {round((cnt/len(y_train))*100, 2)}% of the train set.\")\n",
    "\n",
    "print(\"\")\n",
    "\n",
    "print(\"Test Set\")\n",
    "for cl , cnt in zip(class_test , count_test):\n",
    "    print(f\"Class {cl} has {cnt} instances, i.e. {round((cnt/len(y_test))*100, 2)}% of the test set.\")"
   ]
  },
  {
   "cell_type": "markdown",
   "id": "838a3ee6",
   "metadata": {},
   "source": [
    "Depict the first 8 images of training and test set."
   ]
  },
  {
   "cell_type": "code",
   "execution_count": 7,
   "id": "9402b2bc",
   "metadata": {},
   "outputs": [
    {
     "data": {
      "image/png": "[encoded data removed]",
      "text/plain": [
       "<Figure size 900x900 with 8 Axes>"
      ]
     },
     "metadata": {},
     "output_type": "display_data"
    }
   ],
   "source": [
    "import matplotlib.pyplot as plt\n",
    "\n",
    "def plot_digit(image_data):\n",
    "    image = image_data.reshape(28, 28)\n",
    "    plt.imshow(image, cmap=\"binary\")\n",
    "    plt.axis(\"off\")\n",
    "\n",
    "#first 8 images of training set\n",
    "plt.figure(figsize=(9, 9))\n",
    "for idx, image_data in enumerate(X_train[:8]):\n",
    "    plt.subplot(2, 4, idx + 1)\n",
    "    plot_digit(image_data)\n",
    "    plt.title(y_train[idx]) #einai sosto??\n",
    "plt.subplots_adjust(wspace=0, hspace=0)\n",
    "plt.show()"
   ]
  },
  {
   "cell_type": "code",
   "execution_count": 8,
   "id": "1a8f0d21",
   "metadata": {},
   "outputs": [
    {
     "data": {
      "image/png": "[encoded data removed]",
      "text/plain": [
       "<Figure size 900x900 with 8 Axes>"
      ]
     },
     "metadata": {},
     "output_type": "display_data"
    }
   ],
   "source": [
    "#first 8 images of test set\n",
    "plt.figure(figsize=(9, 9))\n",
    "for idx, image_data in enumerate(X_test[:8]):\n",
    "    plt.subplot(2, 4, idx + 1)\n",
    "    plot_digit(image_data)\n",
    "    plt.title(y_test[idx])\n",
    "plt.subplots_adjust(wspace=0, hspace=0)\n",
    "plt.show()"
   ]
  },
  {
   "cell_type": "markdown",
   "id": "e7404f39",
   "metadata": {},
   "source": [
    "Create a pipeline that normalize the data and uses Stochastic Gradient Descent as the binary classifier."
   ]
  },
  {
   "cell_type": "code",
   "execution_count": 9,
   "id": "94037431",
   "metadata": {},
   "outputs": [
    {
     "data": {
      "text/html": [
       "<style>#sk-container-id-1 {color: black;background-color: white;}#sk-container-id-1 pre{padding: 0;}#sk-container-id-1 div.sk-toggleable {background-color: white;}#sk-container-id-1 label.sk-toggleable__label {cursor: pointer;display: block;width: 100%;margin-bottom: 0;padding: 0.3em;box-sizing: border-box;text-align: center;}#sk-container-id-1 label.sk-toggleable__label-arrow:before {content: \"▸\";float: left;margin-right: 0.25em;color: #696969;}#sk-container-id-1 label.sk-toggleable__label-arrow:hover:before {color: black;}#sk-container-id-1 div.sk-estimator:hover label.sk-toggleable__label-arrow:before {color: black;}#sk-container-id-1 div.sk-toggleable__content {max-height: 0;max-width: 0;overflow: hidden;text-align: left;background-color: #f0f8ff;}#sk-container-id-1 div.sk-toggleable__content pre {margin: 0.2em;color: black;border-radius: 0.25em;background-color: #f0f8ff;}#sk-container-id-1 input.sk-toggleable__control:checked~div.sk-toggleable__content {max-height: 200px;max-width: 100%;overflow: auto;}#sk-container-id-1 input.sk-toggleable__control:checked~label.sk-toggleable__label-arrow:before {content: \"▾\";}#sk-container-id-1 div.sk-estimator input.sk-toggleable__control:checked~label.sk-toggleable__label {background-color: #d4ebff;}#sk-container-id-1 div.sk-label input.sk-toggleable__control:checked~label.sk-toggleable__label {background-color: #d4ebff;}#sk-container-id-1 input.sk-hidden--visually {border: 0;clip: rect(1px 1px 1px 1px);clip: rect(1px, 1px, 1px, 1px);height: 1px;margin: -1px;overflow: hidden;padding: 0;position: absolute;width: 1px;}#sk-container-id-1 div.sk-estimator {font-family: monospace;background-color: #f0f8ff;border: 1px dotted black;border-radius: 0.25em;box-sizing: border-box;margin-bottom: 0.5em;}#sk-container-id-1 div.sk-estimator:hover {background-color: #d4ebff;}#sk-container-id-1 div.sk-parallel-item::after {content: \"\";width: 100%;border-bottom: 1px solid gray;flex-grow: 1;}#sk-container-id-1 div.sk-label:hover label.sk-toggleable__label {background-color: #d4ebff;}#sk-container-id-1 div.sk-serial::before {content: \"\";position: absolute;border-left: 1px solid gray;box-sizing: border-box;top: 0;bottom: 0;left: 50%;z-index: 0;}#sk-container-id-1 div.sk-serial {display: flex;flex-direction: column;align-items: center;background-color: white;padding-right: 0.2em;padding-left: 0.2em;position: relative;}#sk-container-id-1 div.sk-item {position: relative;z-index: 1;}#sk-container-id-1 div.sk-parallel {display: flex;align-items: stretch;justify-content: center;background-color: white;position: relative;}#sk-container-id-1 div.sk-item::before, #sk-container-id-1 div.sk-parallel-item::before {content: \"\";position: absolute;border-left: 1px solid gray;box-sizing: border-box;top: 0;bottom: 0;left: 50%;z-index: -1;}#sk-container-id-1 div.sk-parallel-item {display: flex;flex-direction: column;z-index: 1;position: relative;background-color: white;}#sk-container-id-1 div.sk-parallel-item:first-child::after {align-self: flex-end;width: 50%;}#sk-container-id-1 div.sk-parallel-item:last-child::after {align-self: flex-start;width: 50%;}#sk-container-id-1 div.sk-parallel-item:only-child::after {width: 0;}#sk-container-id-1 div.sk-dashed-wrapped {border: 1px dashed gray;margin: 0 0.4em 0.5em 0.4em;box-sizing: border-box;padding-bottom: 0.4em;background-color: white;}#sk-container-id-1 div.sk-label label {font-family: monospace;font-weight: bold;display: inline-block;line-height: 1.2em;}#sk-container-id-1 div.sk-label-container {text-align: center;}#sk-container-id-1 div.sk-container {/* jupyter's `normalize.less` sets `[hidden] { display: none; }` but bootstrap.min.css set `[hidden] { display: none !important; }` so we also need the `!important` here to be able to override the default hidden behavior on the sphinx rendered scikit-learn.org. See: https://github.com/scikit-learn/scikit-learn/issues/21755 */display: inline-block !important;position: relative;}#sk-container-id-1 div.sk-text-repr-fallback {display: none;}</style><div id=\"sk-container-id-1\" class=\"sk-top-container\"><div class=\"sk-text-repr-fallback\"><pre>Pipeline(steps=[(&#x27;standardscaler&#x27;, StandardScaler()),\n",
       "                (&#x27;sgdclassifier&#x27;, SGDClassifier(random_state=42))])</pre><b>In a Jupyter environment, please rerun this cell to show the HTML representation or trust the notebook. <br />On GitHub, the HTML representation is unable to render, please try loading this page with nbviewer.org.</b></div><div class=\"sk-container\" hidden><div class=\"sk-item sk-dashed-wrapped\"><div class=\"sk-label-container\"><div class=\"sk-label sk-toggleable\"><input class=\"sk-toggleable__control sk-hidden--visually\" id=\"sk-estimator-id-1\" type=\"checkbox\" ><label for=\"sk-estimator-id-1\" class=\"sk-toggleable__label sk-toggleable__label-arrow\">Pipeline</label><div class=\"sk-toggleable__content\"><pre>Pipeline(steps=[(&#x27;standardscaler&#x27;, StandardScaler()),\n",
       "                (&#x27;sgdclassifier&#x27;, SGDClassifier(random_state=42))])</pre></div></div></div><div class=\"sk-serial\"><div class=\"sk-item\"><div class=\"sk-estimator sk-toggleable\"><input class=\"sk-toggleable__control sk-hidden--visually\" id=\"sk-estimator-id-2\" type=\"checkbox\" ><label for=\"sk-estimator-id-2\" class=\"sk-toggleable__label sk-toggleable__label-arrow\">StandardScaler</label><div class=\"sk-toggleable__content\"><pre>StandardScaler()</pre></div></div></div><div class=\"sk-item\"><div class=\"sk-estimator sk-toggleable\"><input class=\"sk-toggleable__control sk-hidden--visually\" id=\"sk-estimator-id-3\" type=\"checkbox\" ><label for=\"sk-estimator-id-3\" class=\"sk-toggleable__label sk-toggleable__label-arrow\">SGDClassifier</label><div class=\"sk-toggleable__content\"><pre>SGDClassifier(random_state=42)</pre></div></div></div></div></div></div></div>"
      ],
      "text/plain": [
       "Pipeline(steps=[('standardscaler', StandardScaler()),\n",
       "                ('sgdclassifier', SGDClassifier(random_state=42))])"
      ]
     },
     "execution_count": 9,
     "metadata": {},
     "output_type": "execute_result"
    }
   ],
   "source": [
    "import numpy as np\n",
    "from sklearn.preprocessing import StandardScaler\n",
    "from sklearn.svm import SVC\n",
    "from sklearn.pipeline import make_pipeline\n",
    "from sklearn.neighbors import KNeighborsClassifier #extra\n",
    "from sklearn.linear_model import SGDClassifier\n",
    "\n",
    "#Create training / test subsets and convert it to binary labels\n",
    "#0 for even, 1 for odd\n",
    "y_train_binary = np.where(y_train.astype('int8') % 2 == 0, 0, 1)\n",
    "y_test_binary = np.where(y_test.astype('int8') % 2 == 0, 0, 1)\n",
    "\n",
    "#Choose normalization technique and binary classifier\n",
    "std_scaler = StandardScaler()\n",
    "sgd_clf = SGDClassifier(random_state=42)\n",
    "\n",
    "#Make a pipeline with the above\n",
    "even_odd_clf = make_pipeline(std_scaler, sgd_clf)\n",
    "\n",
    "even_odd_clf.fit(X_train, y_train_binary)"
   ]
  },
  {
   "cell_type": "markdown",
   "id": "bd871d38",
   "metadata": {},
   "source": [
    "Perform 3-fold cross-validation on the training set and compute accuracy, precision, and recall.\n",
    "Compare performance against a dummy model that always predicts \"even\"."
   ]
  },
  {
   "cell_type": "code",
   "execution_count": 11,
   "id": "324f2dc3",
   "metadata": {},
   "outputs": [
    {
     "name": "stdout",
     "output_type": "stream",
     "text": [
      "The accuracy is : 0.8832605445276808\n",
      "The precision is : 0.8817842160461458\n",
      "The recall is : 0.8895979367808491\n"
     ]
    }
   ],
   "source": [
    "from sklearn.model_selection import cross_val_score\n",
    "from sklearn.model_selection import cross_val_predict\n",
    "from sklearn.metrics import precision_score, recall_score\n",
    "\n",
    "#3-fold cross validation to evaluate the pipeline\n",
    "#Accuracy\n",
    "accuracy = cross_val_score(even_odd_clf, X_train, y_train_binary, cv=3, scoring=\"accuracy\")\n",
    "print(f\"The accuracy is : {accuracy.mean()}\")\n",
    "\n",
    "y_train_pred = cross_val_predict(even_odd_clf, X_train, y_train_binary, cv=3)\n",
    "\n",
    "#Precision\n",
    "prcsn = precision_score(y_train_binary, y_train_pred)\n",
    "print(f\"The precision is : {prcsn}\")\n",
    "\n",
    "#Recall\n",
    "recall = recall_score(y_train_binary, y_train_pred)\n",
    "print(f\"The recall is : {recall}\")"
   ]
  },
  {
   "cell_type": "code",
   "execution_count": 12,
   "id": "67e98de0",
   "metadata": {},
   "outputs": [
    {
     "name": "stdout",
     "output_type": "stream",
     "text": [
      "False\n"
     ]
    }
   ],
   "source": [
    "#Dummy classifier that always predictive even\n",
    "from sklearn.dummy import DummyClassifier\n",
    "\n",
    "dummy_clf = DummyClassifier(strategy=\"constant\", constant=0)\n",
    "dummy_clf.fit(X_train, y_train_binary)\n",
    "print(any(dummy_clf.predict(X_train)))"
   ]
  },
  {
   "cell_type": "markdown",
   "id": "fc37ac5c",
   "metadata": {},
   "source": [
    "So it predicts only even."
   ]
  },
  {
   "cell_type": "code",
   "execution_count": 13,
   "id": "0bb99c00",
   "metadata": {},
   "outputs": [
    {
     "name": "stdout",
     "output_type": "stream",
     "text": [
      "The accuracy of the dummy classifier is : 0.4916974792693676\n",
      "The precision of the dummy classifier is : 0.0\n",
      "The recall of the dummy classifier is : 0.0\n"
     ]
    },
    {
     "name": "stderr",
     "output_type": "stream",
     "text": [
      "C:\\Users\\User\\anaconda3\\lib\\site-packages\\sklearn\\metrics\\_classification.py:1344: UndefinedMetricWarning: Precision is ill-defined and being set to 0.0 due to no predicted samples. Use `zero_division` parameter to control this behavior.\n",
      "  _warn_prf(average, modifier, msg_start, len(result))\n"
     ]
    }
   ],
   "source": [
    "accuracy_dummy = cross_val_score(dummy_clf, X_train, y_train_binary, cv=3, scoring=\"accuracy\")\n",
    "print(f\"The accuracy of the dummy classifier is : {accuracy_dummy.mean()}\")\n",
    "\n",
    "y_train_pred_dummy = cross_val_predict(dummy_clf, X_train, y_train_binary, cv=3)\n",
    "dummy_precision = precision_score(y_train_binary, y_train_pred_dummy)\n",
    "dummy_recall = recall_score(y_train_binary, y_train_pred_dummy)\n",
    "print(f\"The precision of the dummy classifier is : {dummy_precision}\")\n",
    "print(f\"The recall of the dummy classifier is : {dummy_recall}\")"
   ]
  },
  {
   "cell_type": "markdown",
   "id": "6e6a03a4",
   "metadata": {},
   "source": [
    "The metrics of the dummy classifier are expected since its predictions are even every time.\n",
    "<br>\n",
    "So our original model has a better predictive perfomance."
   ]
  },
  {
   "cell_type": "markdown",
   "id": "5fd64068",
   "metadata": {},
   "source": [
    "Compute the confusion matrix after 3-fold CV."
   ]
  },
  {
   "cell_type": "code",
   "execution_count": 14,
   "id": "b0e20b15",
   "metadata": {},
   "outputs": [
    {
     "name": "stdout",
     "output_type": "stream",
     "text": [
      "The confusion matrix is :\n",
      "[[25649  3607]\n",
      " [ 3339 26905]] \n",
      "\n",
      "Predictions (Kind and Amount):\n",
      "True Negatives : 25649\n",
      "True Positives : 26905\n",
      "False Negatives : 3339\n",
      "False Positives : 3607\n"
     ]
    }
   ],
   "source": [
    "from sklearn.metrics import confusion_matrix\n",
    "\n",
    "#Calculate the confusion matrix\n",
    "cm = confusion_matrix(y_train_binary, y_train_pred)\n",
    "print(\"The confusion matrix is :\")\n",
    "print(cm, \"\\n\")\n",
    "\n",
    "#Record the kind and amount of predictions\n",
    "print(\"Predictions (Kind and Amount):\")\n",
    "print(f\"True Negatives : {cm[0,0]}\")\n",
    "print(f\"True Positives : {cm[1,1]}\")\n",
    "print(f\"False Negatives : {cm[1,0]}\")\n",
    "print(f\"False Positives : {cm[0,1]}\")"
   ]
  },
  {
   "cell_type": "markdown",
   "id": "4dcdb767",
   "metadata": {},
   "source": [
    "Retrain the pipeline on the full training set and Make predictions on the test set.<br>\n",
    "Compute a new confusion matrix and compare test performance to training."
   ]
  },
  {
   "cell_type": "code",
   "execution_count": 17,
   "id": "273e67ac",
   "metadata": {},
   "outputs": [
    {
     "name": "stdout",
     "output_type": "stream",
     "text": [
      "The confusion matrix is :\n",
      "[[4590  572]\n",
      " [ 572 4766]] \n",
      "\n"
     ]
    }
   ],
   "source": [
    "#Train the pipeline on the training set\n",
    "even_odd_clf.fit(X_train, y_train_binary)\n",
    "\n",
    "#Getpredictions based on the test set\n",
    "predicts = even_odd_clf.predict(X_test)\n",
    "\n",
    "#Calculate the confusion matrix\n",
    "cm_test = confusion_matrix(y_test_binary, predicts)\n",
    "print(\"The confusion matrix is :\")\n",
    "print(cm_test, \"\\n\")"
   ]
  },
  {
   "cell_type": "code",
   "execution_count": 45,
   "id": "7eaec1bb",
   "metadata": {},
   "outputs": [
    {
     "name": "stdout",
     "output_type": "stream",
     "text": [
      "Accuracy : 0.8910476190476191\n",
      "Precision : 0.8928437617085051\n",
      "Recall : 0.8928437617085051 \n",
      "\n",
      "Difference of Accuracy : 0.008\n",
      "Difference of Precision : 0.011\n",
      "Difference of Recall : 0.003\n"
     ]
    }
   ],
   "source": [
    "from sklearn.metrics import accuracy_score\n",
    "\n",
    "#Calculate new metrics\n",
    "testAcc = accuracy_score(predicts, y_test_binary)\n",
    "testPre = precision_score(predicts, y_test_binary)\n",
    "testRec = recall_score(predicts, y_test_binary)\n",
    "\n",
    "print(f\"Accuracy : {testAcc}\")\n",
    "print(f\"Precision : {testPre}\")\n",
    "print(f\"Recall : {testRec} \\n\")\n",
    "\n",
    "#Calculate the differences of the metrics between the two models\n",
    "print(f\"Difference of Accuracy : {round(abs(testAcc - accuracy.mean()), 3)}\")\n",
    "print(f\"Difference of Precision : {round(abs(testPre - prcsn), 3)}\")\n",
    "print(f\"Difference of Recall : {round(abs(testRec - recall), 3)}\")"
   ]
  },
  {
   "cell_type": "markdown",
   "id": "768b90d6",
   "metadata": {},
   "source": [
    "We see that the results of the two models are basically the same."
   ]
  },
  {
   "cell_type": "markdown",
   "id": "34b24cc8",
   "metadata": {},
   "source": [
    "Display a random misclassified image of false positive and false negative from the test set."
   ]
  },
  {
   "cell_type": "code",
   "execution_count": 26,
   "id": "f0d7e614",
   "metadata": {},
   "outputs": [
    {
     "name": "stdout",
     "output_type": "stream",
     "text": [
      "False Negative\n"
     ]
    },
    {
     "data": {
      "image/png": "[encoded data removed]",
      "text/plain": [
       "<Figure size 640x480 with 1 Axes>"
      ]
     },
     "metadata": {},
     "output_type": "display_data"
    },
    {
     "name": "stdout",
     "output_type": "stream",
     "text": [
      "False Positive\n"
     ]
    },
    {
     "data": {
      "image/png": "[encoded data removed]",
      "text/plain": [
       "<Figure size 640x480 with 1 Axes>"
      ]
     },
     "metadata": {},
     "output_type": "display_data"
    }
   ],
   "source": [
    "import random\n",
    "\n",
    "#Find the sets of False Negatives and False Positives\n",
    "falseNeg = X_test[(y_test_binary == 1) & (predicts == 0)]\n",
    "falsePos = X_test[(y_test_binary == 0) & (predicts == 1)]\n",
    "\n",
    "#Pick a random item from each set\n",
    "randomFN = random.choice(list(falseNeg))\n",
    "randomFP = random.choice(list(falsePos))\n",
    "\n",
    "print(\"False Negative\")\n",
    "plot_digit(randomFN)\n",
    "plt.show()\n",
    "\n",
    "print(\"False Positive\")\n",
    "plot_digit(randomFP)\n",
    "plt.show()"
   ]
  },
  {
   "cell_type": "code",
   "execution_count": null,
   "id": "3d13c49e",
   "metadata": {},
   "outputs": [],
   "source": []
  }
 ],
 "metadata": {
  "kernelspec": {
   "display_name": "Python 3 (ipykernel)",
   "language": "python",
   "name": "python3"
  },
  "language_info": {
   "codemirror_mode": {
    "name": "ipython",
    "version": 3
   },
   "file_extension": ".py",
   "mimetype": "text/x-python",
   "name": "python",
   "nbconvert_exporter": "python",
   "pygments_lexer": "ipython3",
   "version": "3.10.9"
  }
 },
 "nbformat": 4,
 "nbformat_minor": 5
}
